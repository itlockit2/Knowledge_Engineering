{
  "nbformat": 4,
  "nbformat_minor": 0,
  "metadata": {
    "colab": {
      "name": "knowledge_engineering6.ipynb",
      "provenance": [],
      "mount_file_id": "17ZjmkYS3tV2QOsSn0f2j5CLGIoDmmasC",
      "authorship_tag": "ABX9TyO9496bj7bt9Kpd2DbmYZ1Z",
      "include_colab_link": true
    },
    "kernelspec": {
      "name": "python3",
      "display_name": "Python 3"
    }
  },
  "cells": [
    {
      "cell_type": "markdown",
      "metadata": {
        "id": "view-in-github",
        "colab_type": "text"
      },
      "source": [
        "<a href=\"https://colab.research.google.com/github/itlockit2/Knowledge_Engineering/blob/master/knowledge_engineering6.ipynb\" target=\"_parent\"><img src=\"https://colab.research.google.com/assets/colab-badge.svg\" alt=\"Open In Colab\"/></a>"
      ]
    },
    {
      "cell_type": "markdown",
      "metadata": {
        "id": "Lki0oUBjVEPz",
        "colab_type": "text"
      },
      "source": [
        "# 문자열"
      ]
    },
    {
      "cell_type": "code",
      "metadata": {
        "id": "C1rmqWdqjxPB",
        "colab_type": "code",
        "colab": {}
      },
      "source": [
        "import os\n",
        "ROOT_PATH = os.path.join(os.getcwd(),'drive','My Drive','Knowledge_engineering', 'chap_6')"
      ],
      "execution_count": 1,
      "outputs": []
    },
    {
      "cell_type": "code",
      "metadata": {
        "id": "HkkXKZefVnzl",
        "colab_type": "code",
        "colab": {
          "base_uri": "https://localhost:8080/",
          "height": 51
        },
        "outputId": "73f0e569-6fe9-42df-e3ef-688f75c37ebe"
      },
      "source": [
        "title = \"TEAMLAB X Inflearn\"\n",
        "print(title)\n",
        "# lower = 소문자로 변경\n",
        "print(title.lower())"
      ],
      "execution_count": 2,
      "outputs": [
        {
          "output_type": "stream",
          "text": [
            "TEAMLAB X Inflearn\n",
            "teamlab x inflearn\n"
          ],
          "name": "stdout"
        }
      ]
    },
    {
      "cell_type": "code",
      "metadata": {
        "id": "trBx_uWbXzgS",
        "colab_type": "code",
        "colab": {
          "base_uri": "https://localhost:8080/",
          "height": 68
        },
        "outputId": "54021e83-5849-4f52-ce70-6aac14fe98ee"
      },
      "source": [
        "# split 매개변수르 기준으로 쪼개서 배열로 리턴\n",
        "print(title.split(\" \"))\n",
        "string = \"A-B-C-D-E-F\"\n",
        "print(string)\n",
        "print(string.split(\"-\"))"
      ],
      "execution_count": 3,
      "outputs": [
        {
          "output_type": "stream",
          "text": [
            "['TEAMLAB', 'X', 'Inflearn']\n",
            "A-B-C-D-E-F\n",
            "['A', 'B', 'C', 'D', 'E', 'F']\n"
          ],
          "name": "stdout"
        }
      ]
    },
    {
      "cell_type": "code",
      "metadata": {
        "id": "ZTq_6ch9V-_I",
        "colab_type": "code",
        "colab": {
          "base_uri": "https://localhost:8080/",
          "height": 51
        },
        "outputId": "87a76705-6ee2-4d20-82d6-be506fc48c53"
      },
      "source": [
        "# isdigit 문자열이 숫자로 변환될수 있는지 리턴\n",
        "print(title.isdigit())\n",
        "number = \"12345\"\n",
        "print(number.isdigit()) ## True"
      ],
      "execution_count": 4,
      "outputs": [
        {
          "output_type": "stream",
          "text": [
            "False\n",
            "True\n"
          ],
          "name": "stdout"
        }
      ]
    },
    {
      "cell_type": "code",
      "metadata": {
        "id": "QngA1R_CW01h",
        "colab_type": "code",
        "colab": {
          "base_uri": "https://localhost:8080/",
          "height": 51
        },
        "outputId": "4aa7ba1d-a259-4834-9966-22f4d1ee240f"
      },
      "source": [
        "# title 제목형태로 변환 띄워쓰기 후 첫글자만 대문자\n",
        "print(title)\n",
        "print(title.title())"
      ],
      "execution_count": 5,
      "outputs": [
        {
          "output_type": "stream",
          "text": [
            "TEAMLAB X Inflearn\n",
            "Teamlab X Inflearn\n"
          ],
          "name": "stdout"
        }
      ]
    },
    {
      "cell_type": "code",
      "metadata": {
        "id": "EgkDwGkBXC_f",
        "colab_type": "code",
        "colab": {
          "base_uri": "https://localhost:8080/",
          "height": 102
        },
        "outputId": "386e8b78-1f09-4801-817b-d9a45f63ff9e"
      },
      "source": [
        "# startswith 매개변수로 시작하는 문자열 여부 반환\n",
        "print(title)\n",
        "print(title.startswith(\"A\")) # False\n",
        "print(title.startswith(\"T\")) # True\n",
        "print(title.startswith(\"TEAM\")) # True\n",
        "print(title.startswith(\"TA\")) # False"
      ],
      "execution_count": 6,
      "outputs": [
        {
          "output_type": "stream",
          "text": [
            "TEAMLAB X Inflearn\n",
            "False\n",
            "True\n",
            "True\n",
            "False\n"
          ],
          "name": "stdout"
        }
      ]
    },
    {
      "cell_type": "code",
      "metadata": {
        "id": "-y3mHjv3XYhJ",
        "colab_type": "code",
        "colab": {
          "base_uri": "https://localhost:8080/",
          "height": 85
        },
        "outputId": "8785de88-69aa-4002-80e0-a50699976b3b"
      },
      "source": [
        "# count 문자열의 개수 리턴\n",
        "print(title)\n",
        "print(title.count(\"a\")) # 1\n",
        "print(title.count(\"TEAM\")) # 1\n",
        "print(title.count(\"team\")) # 0"
      ],
      "execution_count": 7,
      "outputs": [
        {
          "output_type": "stream",
          "text": [
            "TEAMLAB X Inflearn\n",
            "1\n",
            "1\n",
            "0\n"
          ],
          "name": "stdout"
        }
      ]
    },
    {
      "cell_type": "code",
      "metadata": {
        "id": "3v1TotsqWCj7",
        "colab_type": "code",
        "colab": {
          "base_uri": "https://localhost:8080/",
          "height": 68
        },
        "outputId": "b203c2ee-4497-443a-c407-6ad5dc1c6db9"
      },
      "source": [
        "# find 해당 문자열이 시작하는 index return 없으면 -1 \n",
        "print(title.find(\"Gachon\")) # -1\n",
        "print(title.find(\"X\")) # 8\n",
        "print(title.find(\"Inflearn\")) # 10"
      ],
      "execution_count": 8,
      "outputs": [
        {
          "output_type": "stream",
          "text": [
            "-1\n",
            "8\n",
            "10\n"
          ],
          "name": "stdout"
        }
      ]
    },
    {
      "cell_type": "markdown",
      "metadata": {
        "id": "gJrx74eijjF0",
        "colab_type": "text"
      },
      "source": [
        "# Lab: Yesterday Counter\n",
        "“Yesterday” 노래에 “Yesterday” 단어의 개수?"
      ]
    },
    {
      "cell_type": "code",
      "metadata": {
        "id": "_wsLXY4FjiBE",
        "colab_type": "code",
        "colab": {
          "base_uri": "https://localhost:8080/",
          "height": 34
        },
        "outputId": "919649ae-bdf9-46ac-8d93-4a4670c92c12"
      },
      "source": [
        "f = open(os.path.join(ROOT_PATH,\"yesterday.txt\"), 'r') \n",
        "yesterday_lyric = \"\"\n",
        "while 1:\n",
        "  line = f.readline() \n",
        "  if not line:\n",
        "    break\n",
        "  yesterday_lyric = yesterday_lyric + line.strip() + \"\\n\" \n",
        "f.close()\n",
        "n_of_yesterday = yesterday_lyric.upper().count(\"YESTERDAY\") \n",
        "print (\"Number of a Word 'Yesterday'\" , n_of_yesterday)"
      ],
      "execution_count": 9,
      "outputs": [
        {
          "output_type": "stream",
          "text": [
            "Number of a Word 'Yesterday' 9\n"
          ],
          "name": "stdout"
        }
      ]
    },
    {
      "cell_type": "markdown",
      "metadata": {
        "id": "r6AZz_vqkqrg",
        "colab_type": "text"
      },
      "source": [
        "# Lab: Yesterday Counter II\n",
        "대소문자를 구분하여 “Yesterday”와 “yesterday”의 개수를 나눠서 세는 프로그램을 작성하세요.\n"
      ]
    },
    {
      "cell_type": "code",
      "metadata": {
        "id": "R9uEW4FqkK_B",
        "colab_type": "code",
        "colab": {
          "base_uri": "https://localhost:8080/",
          "height": 51
        },
        "outputId": "b2e1ccc7-9f7c-4968-96c6-b0ede7d7f055"
      },
      "source": [
        "f = open(os.path.join(ROOT_PATH,\"yesterday.txt\"), 'r') \n",
        "yesterday_lyric = \"\"\n",
        "while 1:\n",
        "  line = f.readline() \n",
        "  if not line:\n",
        "    break\n",
        "  yesterday_lyric = yesterday_lyric + line.strip() + \"\\n\" \n",
        "f.close()\n",
        "n_of_Yesterday = yesterday_lyric.count(\"Yesterday\") \n",
        "n_of_yesterday = yesterday_lyric.count(\"yesterday\")\n",
        "print (\"Number of a Word 'Yesterday'\" , n_of_Yesterday)\n",
        "print (\"Number of a Word 'yesterday'\" , n_of_yesterday)"
      ],
      "execution_count": 10,
      "outputs": [
        {
          "output_type": "stream",
          "text": [
            "Number of a Word 'Yesterday' 3\n",
            "Number of a Word 'yesterday' 6\n"
          ],
          "name": "stdout"
        }
      ]
    },
    {
      "cell_type": "code",
      "metadata": {
        "id": "8z3Yg3a-lFrW",
        "colab_type": "code",
        "colab": {}
      },
      "source": [
        ""
      ],
      "execution_count": 10,
      "outputs": []
    }
  ]
}
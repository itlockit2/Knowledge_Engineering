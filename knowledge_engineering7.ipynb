{
  "nbformat": 4,
  "nbformat_minor": 0,
  "metadata": {
    "colab": {
      "name": "knowledge_engineering7.ipynb",
      "provenance": [],
      "mount_file_id": "1vrWrQEs122K0IWf25M_rIvK3aV-BCIj1",
      "authorship_tag": "ABX9TyPVJi0RpIsf2huxRPZVIBKu",
      "include_colab_link": true
    },
    "kernelspec": {
      "name": "python3",
      "display_name": "Python 3"
    }
  },
  "cells": [
    {
      "cell_type": "markdown",
      "metadata": {
        "id": "view-in-github",
        "colab_type": "text"
      },
      "source": [
        "<a href=\"https://colab.research.google.com/github/itlockit2/Knowledge_Engineering/blob/master/knowledge_engineering7.ipynb\" target=\"_parent\"><img src=\"https://colab.research.google.com/assets/colab-badge.svg\" alt=\"Open In Colab\"/></a>"
      ]
    },
    {
      "cell_type": "markdown",
      "metadata": {
        "id": "JTgzjZ2v4V8E",
        "colab_type": "text"
      },
      "source": [
        "# 스택\n",
        "나중에 넣은 데이터를 먼저 반환하도록 설계된 메모리 구조로 Last In First Out(LIFO)로 구현\n",
        "\n",
        "# 스택(Stack) in 파이썬\n",
        "데이터 입력은 append , 출력은 pop()을 이용"
      ]
    },
    {
      "cell_type": "code",
      "metadata": {
        "id": "TJF0Ajeb4A9E",
        "colab_type": "code",
        "colab": {
          "base_uri": "https://localhost:8080/",
          "height": 68
        },
        "outputId": "5311019e-08fb-43c7-e607-a2ff19d16ead"
      },
      "source": [
        "a = [1,2,3,4,5]\n",
        "a.append(10)\n",
        "a.append(20)\n",
        "print(a)\n",
        "print(a.pop())\n",
        "print(a.pop())"
      ],
      "execution_count": 1,
      "outputs": [
        {
          "output_type": "stream",
          "text": [
            "[1, 2, 3, 4, 5, 10, 20]\n",
            "20\n",
            "10\n"
          ],
          "name": "stdout"
        }
      ]
    },
    {
      "cell_type": "markdown",
      "metadata": {
        "id": "N_0fYUny433a",
        "colab_type": "text"
      },
      "source": [
        "# 큐 (Queue)\n",
        "먼저 넣은 데이터를 먼저 반환 FIFO(First In First Out)\n",
        "\n",
        "# 큐(Queue) in 파이썬\n",
        "데이터 입력은 append()\n",
        "출력은 pop(0)을 이용"
      ]
    },
    {
      "cell_type": "code",
      "metadata": {
        "id": "y69GfF3R4p6x",
        "colab_type": "code",
        "colab": {
          "base_uri": "https://localhost:8080/",
          "height": 68
        },
        "outputId": "54f6a54e-96ae-4f6f-fc8e-e2ec3dec8d6a"
      },
      "source": [
        "a = [1,2,3,4,5]\n",
        "a.append(10)\n",
        "a.append(20)\n",
        "print(a)\n",
        "print(a.pop(0))\n",
        "print(a.pop(0))"
      ],
      "execution_count": 2,
      "outputs": [
        {
          "output_type": "stream",
          "text": [
            "[1, 2, 3, 4, 5, 10, 20]\n",
            "1\n",
            "2\n"
          ],
          "name": "stdout"
        }
      ]
    },
    {
      "cell_type": "markdown",
      "metadata": {
        "id": "Isn-EROx5OSm",
        "colab_type": "text"
      },
      "source": [
        "# 튜플 \n",
        "값이 변경이 불가능한 배열\n",
        "\n",
        "\n",
        "선언시 [] 가 아닌 ()를 사용\n",
        "\n",
        "프로그램을 작동하는 동안 변경되지 않은 데이터를 저장할 때 사용한다 학번, 이름, 우편번호"
      ]
    },
    {
      "cell_type": "code",
      "metadata": {
        "id": "pSHkbDHa5JNR",
        "colab_type": "code",
        "colab": {
          "base_uri": "https://localhost:8080/",
          "height": 68
        },
        "outputId": "2fc1fae3-227b-4479-9857-2ade95de5f2e"
      },
      "source": [
        "t = (1,2,3)\n",
        "print (t+t)\n",
        "print (t * 3)\n",
        "len(t)"
      ],
      "execution_count": 3,
      "outputs": [
        {
          "output_type": "stream",
          "text": [
            "(1, 2, 3, 1, 2, 3)\n",
            "(1, 2, 3, 1, 2, 3, 1, 2, 3)\n"
          ],
          "name": "stdout"
        },
        {
          "output_type": "execute_result",
          "data": {
            "text/plain": [
              "3"
            ]
          },
          "metadata": {
            "tags": []
          },
          "execution_count": 3
        }
      ]
    },
    {
      "cell_type": "code",
      "metadata": {
        "id": "eSRnqeZm5ZSo",
        "colab_type": "code",
        "colab": {
          "base_uri": "https://localhost:8080/",
          "height": 181
        },
        "outputId": "d5521f5d-8ea5-471b-bb8f-35d59f9dd310"
      },
      "source": [
        "# Error 발생 값 변경이 불가능하기 때문\n",
        "t[1] = 5 "
      ],
      "execution_count": 4,
      "outputs": [
        {
          "output_type": "error",
          "ename": "TypeError",
          "evalue": "ignored",
          "traceback": [
            "\u001b[0;31m---------------------------------------------------------------------------\u001b[0m",
            "\u001b[0;31mTypeError\u001b[0m                                 Traceback (most recent call last)",
            "\u001b[0;32m<ipython-input-4-be761309b087>\u001b[0m in \u001b[0;36m<module>\u001b[0;34m()\u001b[0m\n\u001b[1;32m      1\u001b[0m \u001b[0;31m# Error 발생 값 변경이 불가능하기 때문\u001b[0m\u001b[0;34m\u001b[0m\u001b[0;34m\u001b[0m\u001b[0;34m\u001b[0m\u001b[0m\n\u001b[0;32m----> 2\u001b[0;31m \u001b[0mt\u001b[0m\u001b[0;34m[\u001b[0m\u001b[0;36m1\u001b[0m\u001b[0;34m]\u001b[0m \u001b[0;34m=\u001b[0m \u001b[0;36m5\u001b[0m\u001b[0;34m\u001b[0m\u001b[0;34m\u001b[0m\u001b[0m\n\u001b[0m",
            "\u001b[0;31mTypeError\u001b[0m: 'tuple' object does not support item assignment"
          ]
        }
      ]
    },
    {
      "cell_type": "code",
      "metadata": {
        "id": "S6Dh4No95rEK",
        "colab_type": "code",
        "colab": {}
      },
      "source": [
        "# 일반정수 튜플이 아니다\n",
        "t = (1)\n",
        "# 값이 1개인 튜플을 사용할려면 , 를 붙여야 한다.\n",
        "t = (1,)"
      ],
      "execution_count": 5,
      "outputs": []
    },
    {
      "cell_type": "markdown",
      "metadata": {
        "id": "uCwGum1_6D_9",
        "colab_type": "text"
      },
      "source": [
        "# 집합 (Set)\n",
        "값을 순서 없이, 중복없이 사용하는 자료형"
      ]
    },
    {
      "cell_type": "code",
      "metadata": {
        "id": "GrD39xN55_Hw",
        "colab_type": "code",
        "colab": {
          "base_uri": "https://localhost:8080/",
          "height": 119
        },
        "outputId": "f3be232a-16b6-48f6-ec01-491b23005245"
      },
      "source": [
        "s = set([3,2,1,1,2,3])\n",
        "print(s)\n",
        "\n",
        "# 중복이 불가능하므로 추가가 안된다.\n",
        "s.add(1)\n",
        "print(s)\n",
        "\n",
        "# 1 삭제\n",
        "s.remove(1)\n",
        "print(s)\n",
        "\n",
        "# 1,4,5,6, 추가\n",
        "s.update([1,4,5,6,7])\n",
        "print(s)\n",
        "\n",
        "# 3 삭제\n",
        "s.discard(3)\n",
        "print(s)\n",
        "\n",
        "# 모든 원소 삭제\n",
        "s.clear()\n",
        "print(s)"
      ],
      "execution_count": 6,
      "outputs": [
        {
          "output_type": "stream",
          "text": [
            "{1, 2, 3}\n",
            "{1, 2, 3}\n",
            "{2, 3}\n",
            "{1, 2, 3, 4, 5, 6, 7}\n",
            "{1, 2, 4, 5, 6, 7}\n",
            "set()\n"
          ],
          "name": "stdout"
        }
      ]
    },
    {
      "cell_type": "code",
      "metadata": {
        "id": "_uFRPMPG6SXn",
        "colab_type": "code",
        "colab": {
          "base_uri": "https://localhost:8080/",
          "height": 119
        },
        "outputId": "dc817d5a-baf5-4de6-eef3-81e1a6331d7b"
      },
      "source": [
        "# 집합의 연산 \n",
        "s1 = set([1,2,3,4,5])\n",
        "s2 = set([3,4,5,6,7])\n",
        "\n",
        "# s1과 s2의 합집합\n",
        "print(s1.union(s2))\n",
        "print(s1 | s2)\n",
        "\n",
        "# s1과 s2의 교집합\n",
        "print(s1.intersection(s2))\n",
        "print(s1 & s2)\n",
        "\n",
        "# s1과 s2의 차집합\n",
        "print(s1.difference(s2))\n",
        "print(s1 - s2)\n"
      ],
      "execution_count": 7,
      "outputs": [
        {
          "output_type": "stream",
          "text": [
            "{1, 2, 3, 4, 5, 6, 7}\n",
            "{1, 2, 3, 4, 5, 6, 7}\n",
            "{3, 4, 5}\n",
            "{3, 4, 5}\n",
            "{1, 2}\n",
            "{1, 2}\n"
          ],
          "name": "stdout"
        }
      ]
    },
    {
      "cell_type": "markdown",
      "metadata": {
        "id": "IreXw-gA7SdR",
        "colab_type": "text"
      },
      "source": [
        "# 사전 (Dictionary)\n",
        "키(Key)값과 데이터 값(Value)로 맵핑 되어 있는 자료구조"
      ]
    },
    {
      "cell_type": "code",
      "metadata": {
        "id": "dJ5Io-mS7J8x",
        "colab_type": "code",
        "colab": {
          "base_uri": "https://localhost:8080/",
          "height": 51
        },
        "outputId": "c3fa49a1-170f-460f-9e0c-0959622c8099"
      },
      "source": [
        "student_info = {20140012:'Sungchul', 20140059:'Jiyong',20140058:'JaeHong'}\n",
        "student_info[20140012] = 'Janhyeok' \n",
        "student_info[20140039] = 'wonchul'\n",
        "print(student_info)\n",
        "print(student_info[20140059])"
      ],
      "execution_count": 8,
      "outputs": [
        {
          "output_type": "stream",
          "text": [
            "{20140012: 'Janhyeok', 20140059: 'Jiyong', 20140058: 'JaeHong', 20140039: 'wonchul'}\n",
            "Jiyong\n"
          ],
          "name": "stdout"
        }
      ]
    },
    {
      "cell_type": "code",
      "metadata": {
        "id": "qlDuzqez7yfd",
        "colab_type": "code",
        "colab": {
          "base_uri": "https://localhost:8080/",
          "height": 102
        },
        "outputId": "4cba8548-901f-4795-d079-8e3812d1561c"
      },
      "source": [
        "country_code = {}\n",
        "country_code = {'America' : 1 , \"Korea\" : 82, \"China\" : 86, \"Japan\" : 81}\n",
        "print(country_code)\n",
        "# Dictionaty Key Value로 묶은 튜플을 반환한다.\n",
        "print(country_code.items())\n",
        "# 키 값만 출력\n",
        "print(country_code.keys())\n",
        "# Key - Value 추가\n",
        "country_code[\"Gernman\"] = 49\n",
        "print(country_code)\n",
        "# Value만 출력\n",
        "print(country_code.values())"
      ],
      "execution_count": 9,
      "outputs": [
        {
          "output_type": "stream",
          "text": [
            "{'America': 1, 'Korea': 82, 'China': 86, 'Japan': 81}\n",
            "dict_items([('America', 1), ('Korea', 82), ('China', 86), ('Japan', 81)])\n",
            "dict_keys(['America', 'Korea', 'China', 'Japan'])\n",
            "{'America': 1, 'Korea': 82, 'China': 86, 'Japan': 81, 'Gernman': 49}\n",
            "dict_values([1, 82, 86, 81, 49])\n"
          ],
          "name": "stdout"
        }
      ]
    },
    {
      "cell_type": "code",
      "metadata": {
        "id": "8G5Wuiei8FTF",
        "colab_type": "code",
        "colab": {
          "base_uri": "https://localhost:8080/",
          "height": 102
        },
        "outputId": "f8de1973-4b77-4c16-e787-8ce487f7d12f"
      },
      "source": [
        "for k, v in country_code.items():\n",
        "  print('Key : ', k , \" Value : \", v)"
      ],
      "execution_count": 10,
      "outputs": [
        {
          "output_type": "stream",
          "text": [
            "Key :  America  Value :  1\n",
            "Key :  Korea  Value :  82\n",
            "Key :  China  Value :  86\n",
            "Key :  Japan  Value :  81\n",
            "Key :  Gernman  Value :  49\n"
          ],
          "name": "stdout"
        }
      ]
    },
    {
      "cell_type": "code",
      "metadata": {
        "id": "o7rjw_A687nA",
        "colab_type": "code",
        "colab": {
          "base_uri": "https://localhost:8080/",
          "height": 54
        },
        "outputId": "e246652c-ccad-4ac0-f1db-de8f220ab9dc"
      },
      "source": [
        "import os\n",
        "import csv\n",
        "ROOT_PATH = os.path.join(os.getcwd(),'drive','My Drive','Knowledge_engineering', 'chap_7')\n",
        "\n",
        "command_data = []\n",
        "with open(os.path.join(ROOT_PATH,'command_data.csv'),'r') as csvfile:\n",
        "  csvReader = csv.reader(csvfile, delimiter=',' , quotechar ='\"')\n",
        "  for row in csvReader:\n",
        "    command_data.append(row)\n",
        "\n",
        "command_counter = {}\n",
        "for data in command_data:\n",
        "  userId = data[1]\n",
        "  # id가 딕션너리에 이미 등록되어 있으면 카운터 1 추가\n",
        "  if userId in command_counter.keys():\n",
        "    command_counter[userId] = command_counter[userId] + 1\n",
        "  else :\n",
        "    # 처음 나왔다면 1로 초기화\n",
        "    command_counter[userId] = 1\n",
        "\n",
        "# dict를 list로 변경\n",
        "dictlist = []\n",
        "for key, value in command_counter.items():\n",
        "  temp = [key,value]\n",
        "  dictlist.append(temp)\n",
        "\n",
        "def getKey(item):\n",
        "  return item[1]\n",
        "  \n",
        "# 정렬\n",
        "sorted_dict = sorted(dictlist, key=getKey, reverse=True)\n",
        "# 상위 10개 출력\n",
        "print(sorted_dict[:10])"
      ],
      "execution_count": 11,
      "outputs": [
        {
          "output_type": "stream",
          "text": [
            "[['bookworm', 8500], ['elsa', 7500], ['fillmore', 7394], ['francis', 5978], ['anton_ego', 5819], ['queen_grimhilde', 5000], ['kristoff', 4934], ['brent_mustangburger', 4838], ['emperor_zurg', 4470], ['tarzan', 4193]]\n"
          ],
          "name": "stdout"
        }
      ]
    },
    {
      "cell_type": "markdown",
      "metadata": {
        "id": "tar0yeW-B_FM",
        "colab_type": "text"
      },
      "source": [
        "# Collections\n",
        "List, Tuple, Dict에 대한 Python Built-in 확장 자료 구조(모듈)\n",
        "\n",
        "```\n",
        "from collections import deque\n",
        "from collections import Counter \n",
        "from collections import OrderedDict \n",
        "from collections import defaultdict \n",
        "from collections import namedtuple\n",
        "```\n",
        "\n",
        "\n"
      ]
    },
    {
      "cell_type": "markdown",
      "metadata": {
        "id": "K_wvJWK0CVGV",
        "colab_type": "text"
      },
      "source": [
        "# Deque\n",
        "Stack과 Queue를 지원하는 모듈 \n",
        "list에 비해 효율적인 자료 저장 방식을 지원"
      ]
    },
    {
      "cell_type": "code",
      "metadata": {
        "id": "WunpFy8L_Ef-",
        "colab_type": "code",
        "colab": {
          "base_uri": "https://localhost:8080/",
          "height": 51
        },
        "outputId": "d1321cbd-edd4-434b-ad6e-a165f8da6aad"
      },
      "source": [
        "from collections import deque\n",
        "\n",
        "deque_list = deque()\n",
        "for i in range(5):\n",
        "  deque_list.append(i)\n",
        "print(deque_list)\n",
        "\n",
        "deque_list.appendleft(10)\n",
        "deque_list.append(20)\n",
        "print(deque_list)"
      ],
      "execution_count": 12,
      "outputs": [
        {
          "output_type": "stream",
          "text": [
            "deque([0, 1, 2, 3, 4])\n",
            "deque([10, 0, 1, 2, 3, 4, 20])\n"
          ],
          "name": "stdout"
        }
      ]
    },
    {
      "cell_type": "code",
      "metadata": {
        "id": "4IzM-liaC0EW",
        "colab_type": "code",
        "colab": {
          "base_uri": "https://localhost:8080/",
          "height": 221
        },
        "outputId": "ef31575f-5b88-4b55-dfbb-33f59d37bb97"
      },
      "source": [
        "print(\"original deque\")\n",
        "print(deque_list)\n",
        "\n",
        "# 오른쪽으로 회전\n",
        "print(\"deque_list.rotate(2)\")\n",
        "deque_list.rotate(2)\n",
        "print(deque_list)\n",
        "\n",
        "print(\"deque_list.rotate(2)\")\n",
        "deque_list.rotate(2)\n",
        "print(deque_list)\n",
        "\n",
        "# 5,6,7을 맨뒤에 추가\n",
        "print(\"deque_list.extend([5,6,7])\")\n",
        "deque_list.extend([5,6,7])\n",
        "print(deque_list)\n",
        "\n",
        "# 1,2,3을 맨앞에 추가\n",
        "print(\"deque_list.extendleft([1,2,3])\")\n",
        "deque_list.extendleft([1,2,3])\n",
        "print(deque_list)\n",
        "\n",
        "# 거꾸로 출력\n",
        "print(\"print(deque(reversed(deque_list)))\")\n",
        "print(deque(reversed(deque_list)))"
      ],
      "execution_count": 13,
      "outputs": [
        {
          "output_type": "stream",
          "text": [
            "original deque\n",
            "deque([10, 0, 1, 2, 3, 4, 20])\n",
            "deque_list.rotate(2)\n",
            "deque([4, 20, 10, 0, 1, 2, 3])\n",
            "deque_list.rotate(2)\n",
            "deque([2, 3, 4, 20, 10, 0, 1])\n",
            "deque_list.extend([5,6,7])\n",
            "deque([2, 3, 4, 20, 10, 0, 1, 5, 6, 7])\n",
            "deque_list.extendleft([1,2,3])\n",
            "deque([3, 2, 1, 2, 3, 4, 20, 10, 0, 1, 5, 6, 7])\n",
            "print(deque(reversed(deque_list)))\n",
            "deque([7, 6, 5, 1, 0, 10, 20, 4, 3, 2, 1, 2, 3])\n"
          ],
          "name": "stdout"
        }
      ]
    },
    {
      "cell_type": "markdown",
      "metadata": {
        "id": "TXiP8LXMD-LO",
        "colab_type": "text"
      },
      "source": [
        "# OrderedDict\n",
        "Dict와 달리, 데이터를 입력한 순서대로 dict를 반환"
      ]
    },
    {
      "cell_type": "code",
      "metadata": {
        "id": "5_pSR96_Dcfo",
        "colab_type": "code",
        "colab": {
          "base_uri": "https://localhost:8080/",
          "height": 85
        },
        "outputId": "eb9d5911-cd3a-4fd9-d498-bf1b4d06031f"
      },
      "source": [
        "from collections import OrderedDict\n",
        "d = OrderedDict()\n",
        "\n",
        "d['x'] = 100\n",
        "d['y'] = 200\n",
        "d['z'] = 300\n",
        "d['l'] = 500\n",
        "\n",
        "for k,v in d.items():\n",
        "  print(k,v)"
      ],
      "execution_count": 14,
      "outputs": [
        {
          "output_type": "stream",
          "text": [
            "x 100\n",
            "y 200\n",
            "z 300\n",
            "l 500\n"
          ],
          "name": "stdout"
        }
      ]
    },
    {
      "cell_type": "markdown",
      "metadata": {
        "id": "vEZe_rBSFMCV",
        "colab_type": "text"
      },
      "source": [
        "# defaultDict\n",
        "Dict type의 값에 기본값을 지정, 신규값 생성시 사용하는 방법"
      ]
    },
    {
      "cell_type": "code",
      "metadata": {
        "id": "TKUHbRPRFtBx",
        "colab_type": "code",
        "colab": {
          "base_uri": "https://localhost:8080/",
          "height": 198
        },
        "outputId": "6ebdc98f-61cb-43e0-8bdf-d9f0e2f2ab8c"
      },
      "source": [
        "# 기존 딕션너리는 기본값 생성이 불가능하다.\n",
        "d = dict()\n",
        "print(d[\"first\"])"
      ],
      "execution_count": 15,
      "outputs": [
        {
          "output_type": "error",
          "ename": "KeyError",
          "evalue": "ignored",
          "traceback": [
            "\u001b[0;31m---------------------------------------------------------------------------\u001b[0m",
            "\u001b[0;31mKeyError\u001b[0m                                  Traceback (most recent call last)",
            "\u001b[0;32m<ipython-input-15-e18916e0a610>\u001b[0m in \u001b[0;36m<module>\u001b[0;34m()\u001b[0m\n\u001b[1;32m      1\u001b[0m \u001b[0;31m# 기존 딕션너리는 기본값 생성이 불가능하다.\u001b[0m\u001b[0;34m\u001b[0m\u001b[0;34m\u001b[0m\u001b[0;34m\u001b[0m\u001b[0m\n\u001b[1;32m      2\u001b[0m \u001b[0md\u001b[0m \u001b[0;34m=\u001b[0m \u001b[0mdict\u001b[0m\u001b[0;34m(\u001b[0m\u001b[0;34m)\u001b[0m\u001b[0;34m\u001b[0m\u001b[0;34m\u001b[0m\u001b[0m\n\u001b[0;32m----> 3\u001b[0;31m \u001b[0mprint\u001b[0m\u001b[0;34m(\u001b[0m\u001b[0md\u001b[0m\u001b[0;34m[\u001b[0m\u001b[0;34m\"first\"\u001b[0m\u001b[0;34m]\u001b[0m\u001b[0;34m)\u001b[0m\u001b[0;34m\u001b[0m\u001b[0;34m\u001b[0m\u001b[0m\n\u001b[0m",
            "\u001b[0;31mKeyError\u001b[0m: 'first'"
          ]
        }
      ]
    },
    {
      "cell_type": "code",
      "metadata": {
        "id": "APJN37UeEQGL",
        "colab_type": "code",
        "colab": {
          "base_uri": "https://localhost:8080/",
          "height": 34
        },
        "outputId": "0faeb63c-9a81-4839-8856-c2babfbb0eb3"
      },
      "source": [
        "from collections import defaultdict\n",
        "d = defaultdict(object) # Default dictionary 생성\n",
        "d = defaultdict(lambda : 0) # Default 값을 0으로 설정 \n",
        "print(d[\"first\"])"
      ],
      "execution_count": 16,
      "outputs": [
        {
          "output_type": "stream",
          "text": [
            "0\n"
          ],
          "name": "stdout"
        }
      ]
    },
    {
      "cell_type": "code",
      "metadata": {
        "id": "P6wOy0fsFooa",
        "colab_type": "code",
        "colab": {
          "base_uri": "https://localhost:8080/",
          "height": 54
        },
        "outputId": "917c41ba-e75f-4be8-de7a-603b936aacd8"
      },
      "source": [
        "text = \"\"\"A press release is the quickest and easiest way to get free publicity. If well written, a press release can result in multiple published articles about your firm and its products. And that can mean new prospects contacting you asking you to sell to them. ....\"\"\".lower().split()\n",
        "print(text)"
      ],
      "execution_count": 17,
      "outputs": [
        {
          "output_type": "stream",
          "text": [
            "['a', 'press', 'release', 'is', 'the', 'quickest', 'and', 'easiest', 'way', 'to', 'get', 'free', 'publicity.', 'if', 'well', 'written,', 'a', 'press', 'release', 'can', 'result', 'in', 'multiple', 'published', 'articles', 'about', 'your', 'firm', 'and', 'its', 'products.', 'and', 'that', 'can', 'mean', 'new', 'prospects', 'contacting', 'you', 'asking', 'you', 'to', 'sell', 'to', 'them.', '....']\n"
          ],
          "name": "stdout"
        }
      ]
    },
    {
      "cell_type": "code",
      "metadata": {
        "id": "r5UOsQkkGBuO",
        "colab_type": "code",
        "colab": {
          "base_uri": "https://localhost:8080/",
          "height": 646
        },
        "outputId": "0b6ecaa3-7434-47aa-ee11-ec67e252b80e"
      },
      "source": [
        "word_count = defaultdict(object) # Default dictionary를 생성\n",
        "word_count = defaultdict(lambda : 0) # Default 값을 0으로 설정함\n",
        "\n",
        "for word in text:\n",
        "  word_count[word] = word_count[word] + 1\n",
        "\n",
        "for k, v in OrderedDict(sorted(word_count.items(), key=lambda t:t[1], reverse=True)).items():\n",
        "  print(k,v)"
      ],
      "execution_count": 18,
      "outputs": [
        {
          "output_type": "stream",
          "text": [
            "and 3\n",
            "to 3\n",
            "a 2\n",
            "press 2\n",
            "release 2\n",
            "can 2\n",
            "you 2\n",
            "is 1\n",
            "the 1\n",
            "quickest 1\n",
            "easiest 1\n",
            "way 1\n",
            "get 1\n",
            "free 1\n",
            "publicity. 1\n",
            "if 1\n",
            "well 1\n",
            "written, 1\n",
            "result 1\n",
            "in 1\n",
            "multiple 1\n",
            "published 1\n",
            "articles 1\n",
            "about 1\n",
            "your 1\n",
            "firm 1\n",
            "its 1\n",
            "products. 1\n",
            "that 1\n",
            "mean 1\n",
            "new 1\n",
            "prospects 1\n",
            "contacting 1\n",
            "asking 1\n",
            "sell 1\n",
            "them. 1\n",
            ".... 1\n"
          ],
          "name": "stdout"
        }
      ]
    },
    {
      "cell_type": "markdown",
      "metadata": {
        "id": "NPmHbhWHHL3p",
        "colab_type": "text"
      },
      "source": [
        "# Counter\n",
        "Sequence type의 data element들의 개수를 dict 형태로 반환"
      ]
    },
    {
      "cell_type": "code",
      "metadata": {
        "id": "fysY8z52GaGe",
        "colab_type": "code",
        "colab": {
          "base_uri": "https://localhost:8080/",
          "height": 34
        },
        "outputId": "1d9c6530-0375-4885-f2e6-716f5ac57ec5"
      },
      "source": [
        "from collections import Counter\n",
        "c = Counter('gallahad')\n",
        "print(c)"
      ],
      "execution_count": 19,
      "outputs": [
        {
          "output_type": "stream",
          "text": [
            "Counter({'a': 3, 'l': 2, 'g': 1, 'h': 1, 'd': 1})\n"
          ],
          "name": "stdout"
        }
      ]
    },
    {
      "cell_type": "code",
      "metadata": {
        "id": "tgYMlhyDHXqs",
        "colab_type": "code",
        "colab": {
          "base_uri": "https://localhost:8080/",
          "height": 85
        },
        "outputId": "037394e1-fd80-4826-885f-b06e8ae034d1"
      },
      "source": [
        "c = Counter({'red' : 4, 'blue' : 2})\n",
        "print(c)\n",
        "print(list(c.elements()))\n",
        "\n",
        "c = Counter(cats=4, dogs=8)\n",
        "print(c)\n",
        "print(list(c.elements()))"
      ],
      "execution_count": 20,
      "outputs": [
        {
          "output_type": "stream",
          "text": [
            "Counter({'red': 4, 'blue': 2})\n",
            "['red', 'red', 'red', 'red', 'blue', 'blue']\n",
            "Counter({'dogs': 8, 'cats': 4})\n",
            "['cats', 'cats', 'cats', 'cats', 'dogs', 'dogs', 'dogs', 'dogs', 'dogs', 'dogs', 'dogs', 'dogs']\n"
          ],
          "name": "stdout"
        }
      ]
    },
    {
      "cell_type": "code",
      "metadata": {
        "id": "CotR54QNHqE7",
        "colab_type": "code",
        "colab": {
          "base_uri": "https://localhost:8080/",
          "height": 85
        },
        "outputId": "37446f8a-67bb-448e-9a62-f20079d6fb7b"
      },
      "source": [
        "# Set 연산을 지원\n",
        "c = Counter(a=4, b=2, c=0, d=-2)\n",
        "d = Counter(a=1, b=2, c=3, d=4)\n",
        "\n",
        "print(c - d)\n",
        "print(c + d)\n",
        "print(c & d)\n",
        "print(c | d)"
      ],
      "execution_count": 21,
      "outputs": [
        {
          "output_type": "stream",
          "text": [
            "Counter({'a': 3})\n",
            "Counter({'a': 5, 'b': 4, 'c': 3, 'd': 2})\n",
            "Counter({'b': 2, 'a': 1})\n",
            "Counter({'a': 4, 'd': 4, 'c': 3, 'b': 2})\n"
          ],
          "name": "stdout"
        }
      ]
    },
    {
      "cell_type": "code",
      "metadata": {
        "id": "bkoXvJn_H1bR",
        "colab_type": "code",
        "colab": {
          "base_uri": "https://localhost:8080/",
          "height": 71
        },
        "outputId": "dea59cb6-618a-44de-c08e-6300ef1239d4"
      },
      "source": [
        "text = \"\"\"A press release is the quickest and easiest way to get free publicity. If well written, a press release can result in multiple published articles about your firm and its products. And that can mean new prospects contacting you asking you to sell to them. ....\"\"\".lower().split()\n",
        "\n",
        "print(Counter(text))\n",
        "print(Counter(text)[\"a\"])"
      ],
      "execution_count": 22,
      "outputs": [
        {
          "output_type": "stream",
          "text": [
            "Counter({'and': 3, 'to': 3, 'a': 2, 'press': 2, 'release': 2, 'can': 2, 'you': 2, 'is': 1, 'the': 1, 'quickest': 1, 'easiest': 1, 'way': 1, 'get': 1, 'free': 1, 'publicity.': 1, 'if': 1, 'well': 1, 'written,': 1, 'result': 1, 'in': 1, 'multiple': 1, 'published': 1, 'articles': 1, 'about': 1, 'your': 1, 'firm': 1, 'its': 1, 'products.': 1, 'that': 1, 'mean': 1, 'new': 1, 'prospects': 1, 'contacting': 1, 'asking': 1, 'sell': 1, 'them.': 1, '....': 1})\n",
            "2\n"
          ],
          "name": "stdout"
        }
      ]
    },
    {
      "cell_type": "markdown",
      "metadata": {
        "id": "9nS2AlrSIWfP",
        "colab_type": "text"
      },
      "source": [
        "# namedtuple\n",
        "- Tuple 형태로 Data 구조체를 저장하는 방법\n",
        "- 저장되는 data의 variable을 사전에 지정해서 저장함"
      ]
    },
    {
      "cell_type": "code",
      "metadata": {
        "id": "8gp_f6pNIRuE",
        "colab_type": "code",
        "colab": {
          "base_uri": "https://localhost:8080/",
          "height": 102
        },
        "outputId": "118477b6-dfd7-4788-d936-71dd49193e7b"
      },
      "source": [
        "from collections import namedtuple\n",
        "\n",
        "Point = namedtuple('Point', ['x','y'])\n",
        "p = Point(11, 22)\n",
        "print(p)\n",
        "print(p[0] , ' , ', p[1])\n",
        "x, y = p\n",
        "print(x, y)\n",
        "print(p.x + p.y)\n",
        "p2 = Point(x=111, y=222)\n",
        "print(p2)"
      ],
      "execution_count": 23,
      "outputs": [
        {
          "output_type": "stream",
          "text": [
            "Point(x=11, y=22)\n",
            "11  ,  22\n",
            "11 22\n",
            "33\n",
            "Point(x=111, y=222)\n"
          ],
          "name": "stdout"
        }
      ]
    }
  ]
}
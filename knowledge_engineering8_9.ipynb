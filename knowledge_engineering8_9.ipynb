{
  "nbformat": 4,
  "nbformat_minor": 0,
  "metadata": {
    "colab": {
      "name": "knowledge_engineering8-9.ipynb",
      "provenance": [],
      "collapsed_sections": [],
      "authorship_tag": "ABX9TyOVPR7zPRObH4gkYQ2BvXPk",
      "include_colab_link": true
    },
    "kernelspec": {
      "name": "python3",
      "display_name": "Python 3"
    }
  },
  "cells": [
    {
      "cell_type": "markdown",
      "metadata": {
        "id": "view-in-github",
        "colab_type": "text"
      },
      "source": [
        "<a href=\"https://colab.research.google.com/github/itlockit2/Knowledge_Engineering/blob/master/knowledge_engineering8_9.ipynb\" target=\"_parent\"><img src=\"https://colab.research.google.com/assets/colab-badge.svg\" alt=\"Open In Colab\"/></a>"
      ]
    },
    {
      "cell_type": "markdown",
      "metadata": {
        "id": "K5rGRd4nlrUj",
        "colab_type": "text"
      },
      "source": [
        "# 파이썬 스타일 코드"
      ]
    },
    {
      "cell_type": "code",
      "metadata": {
        "id": "9SJ7As-ZllPr",
        "colab_type": "code",
        "colab": {
          "base_uri": "https://localhost:8080/",
          "height": 34
        },
        "outputId": "a88cfbbb-bd95-4c34-f9bf-ea2aa88dea63"
      },
      "source": [
        "# 기존 \n",
        "colors = ['red', 'blue', 'green', 'yellow']\n",
        "result = ''\n",
        "for s in colors:\n",
        "  result = result + s\n",
        "print (result)"
      ],
      "execution_count": 1,
      "outputs": [
        {
          "output_type": "stream",
          "text": [
            "redbluegreenyellow\n"
          ],
          "name": "stdout"
        }
      ]
    },
    {
      "cell_type": "code",
      "metadata": {
        "id": "uhkChz9hl2Wb",
        "colab_type": "code",
        "colab": {
          "base_uri": "https://localhost:8080/",
          "height": 34
        },
        "outputId": "d8002618-148a-4b5a-93c5-333d48eca1df"
      },
      "source": [
        "# 파이썬 스타일\n",
        "colors = ['red', 'blue', 'green', 'yellow']\n",
        "result = ''.join(colors)\n",
        "print(result)"
      ],
      "execution_count": 2,
      "outputs": [
        {
          "output_type": "stream",
          "text": [
            "redbluegreenyellow\n"
          ],
          "name": "stdout"
        }
      ]
    },
    {
      "cell_type": "markdown",
      "metadata": {
        "id": "AYTYjyrGmKj-",
        "colab_type": "text"
      },
      "source": [
        "# 왜 Pythonic 하게 코드를 까야하는가?\n",
        "- 많은 개발자들이 Python 스타일로 코딩한다.\n",
        "- 코드가 짧아짐 -> 성능 향상\n",
        "- 씝간지\n"
      ]
    },
    {
      "cell_type": "markdown",
      "metadata": {
        "id": "qiV9Yo9JnO-g",
        "colab_type": "text"
      },
      "source": [
        "# Split 함수\n",
        "말그대로 쪼개는 함수"
      ]
    },
    {
      "cell_type": "code",
      "metadata": {
        "id": "KyNTIjwel8_0",
        "colab_type": "code",
        "colab": {
          "base_uri": "https://localhost:8080/",
          "height": 68
        },
        "outputId": "6a112d15-704b-4beb-fbf2-62641569c58b"
      },
      "source": [
        "items = 'zero one two three'\n",
        "# 빈칸 기준으로 나누기\n",
        "print(items.split())\n",
        "\n",
        "example = 'python,jquery,javascript'\n",
        "# ,를 기준으로 나누기\n",
        "print(example.split(\",\"))\n",
        "\n",
        "# 나눈값을 a,b,c 변수에 넣기\n",
        "a, b, c = example.split(\",\")\n",
        "\n",
        "example = 'ie.jnu.edu'\n",
        "subdomain, domain, tld = example.split('.')\n",
        "print('subdomain : ', subdomain, ' domain : ', domain, ' tld : ', tld)"
      ],
      "execution_count": 3,
      "outputs": [
        {
          "output_type": "stream",
          "text": [
            "['zero', 'one', 'two', 'three']\n",
            "['python', 'jquery', 'javascript']\n",
            "subdomain :  ie  domain :  jnu  tld :  edu\n"
          ],
          "name": "stdout"
        }
      ]
    },
    {
      "cell_type": "markdown",
      "metadata": {
        "id": "FvlcJd7unL19",
        "colab_type": "text"
      },
      "source": [
        "# Join함수\n",
        "예시보면 바로 이해 완료"
      ]
    },
    {
      "cell_type": "code",
      "metadata": {
        "id": "9iVGMr67m0RA",
        "colab_type": "code",
        "colab": {
          "base_uri": "https://localhost:8080/",
          "height": 85
        },
        "outputId": "c5a343f9-3fb2-4dca-cae1-4bba9f60ce79"
      },
      "source": [
        "colors = ['red', 'blue', 'green', 'yellow']\n",
        "result = ''.join(colors)\n",
        "print(result)\n",
        "\n",
        "result = ' '.join(colors)\n",
        "print(result)\n",
        "\n",
        "result = ', '.join(colors)\n",
        "print(result)\n",
        "\n",
        "result ='-'.join(colors)\n",
        "print(result)"
      ],
      "execution_count": 4,
      "outputs": [
        {
          "output_type": "stream",
          "text": [
            "redbluegreenyellow\n",
            "red blue green yellow\n",
            "red, blue, green, yellow\n",
            "red-blue-green-yellow\n"
          ],
          "name": "stdout"
        }
      ]
    },
    {
      "cell_type": "markdown",
      "metadata": {
        "id": "utZJQ3EjnReB",
        "colab_type": "text"
      },
      "source": [
        "# List comprehensions \n",
        "리스트를 이용하여 리스트를 만드는 기법\n",
        "일반적으로 for + append보다 빠르다"
      ]
    },
    {
      "cell_type": "code",
      "metadata": {
        "id": "ThKoNxmGnJ6Q",
        "colab_type": "code",
        "colab": {
          "base_uri": "https://localhost:8080/",
          "height": 34
        },
        "outputId": "0995fe6b-db27-4696-de1d-0a24bfcebfae"
      },
      "source": [
        "#기존 스타일\n",
        "result = []\n",
        "for i in range(10):\n",
        "  result.append(i)\n",
        "print(result)"
      ],
      "execution_count": 5,
      "outputs": [
        {
          "output_type": "stream",
          "text": [
            "[0, 1, 2, 3, 4, 5, 6, 7, 8, 9]\n"
          ],
          "name": "stdout"
        }
      ]
    },
    {
      "cell_type": "code",
      "metadata": {
        "id": "SA9XZZennbO4",
        "colab_type": "code",
        "colab": {
          "base_uri": "https://localhost:8080/",
          "height": 68
        },
        "outputId": "71f5402a-3df2-4241-af97-dd7cfe681863"
      },
      "source": [
        "# 파이썬 스타일\n",
        "result = [i for i in range(10)]\n",
        "print(result)\n",
        "\n",
        "result = [i for i in range(10) if i % 2 == 0]\n",
        "print(result)\n",
        "\n",
        "result = sum([i for i in range(10) if i % 2 == 0])\n",
        "print(result)\n"
      ],
      "execution_count": 6,
      "outputs": [
        {
          "output_type": "stream",
          "text": [
            "[0, 1, 2, 3, 4, 5, 6, 7, 8, 9]\n",
            "[0, 2, 4, 6, 8]\n",
            "20\n"
          ],
          "name": "stdout"
        }
      ]
    },
    {
      "cell_type": "code",
      "metadata": {
        "id": "bmg8eCFSngeP",
        "colab_type": "code",
        "colab": {
          "base_uri": "https://localhost:8080/",
          "height": 34
        },
        "outputId": "7c136d47-4373-4f13-e12f-9b47d640758b"
      },
      "source": [
        "# 끔찍한 혼종\n",
        "word_1 = \"Hello\"\n",
        "word_2 = \"World!\"\n",
        "\n",
        "result = [i+j for i in word_1 for j in word_2]\n",
        "print(result)"
      ],
      "execution_count": 7,
      "outputs": [
        {
          "output_type": "stream",
          "text": [
            "['HW', 'Ho', 'Hr', 'Hl', 'Hd', 'H!', 'eW', 'eo', 'er', 'el', 'ed', 'e!', 'lW', 'lo', 'lr', 'll', 'ld', 'l!', 'lW', 'lo', 'lr', 'll', 'ld', 'l!', 'oW', 'oo', 'or', 'ol', 'od', 'o!']\n"
          ],
          "name": "stdout"
        }
      ]
    },
    {
      "cell_type": "code",
      "metadata": {
        "id": "bclY-DmsnvBk",
        "colab_type": "code",
        "colab": {
          "base_uri": "https://localhost:8080/",
          "height": 68
        },
        "outputId": "b17335de-2560-4235-c669-4897c859d71f"
      },
      "source": [
        "case_1 = [\"A\", \"B\", \"C\"]\n",
        "case_2 = [\"D\", \"E\", \"A\"]\n",
        "result = [i+j for i in case_1 for j in case_2]\n",
        "print(result)\n",
        "\n",
        "# i랑 j랑 같다면 List에 추가하지 않는다.\n",
        "result = [i+j for i in case_1 for j in case_2 if not(i==j)]\n",
        "print(result)\n",
        "\n",
        "result.sort()\n",
        "print(result)"
      ],
      "execution_count": 8,
      "outputs": [
        {
          "output_type": "stream",
          "text": [
            "['AD', 'AE', 'AA', 'BD', 'BE', 'BA', 'CD', 'CE', 'CA']\n",
            "['AD', 'AE', 'BD', 'BE', 'BA', 'CD', 'CE', 'CA']\n",
            "['AD', 'AE', 'BA', 'BD', 'BE', 'CA', 'CD', 'CE']\n"
          ],
          "name": "stdout"
        }
      ]
    },
    {
      "cell_type": "code",
      "metadata": {
        "id": "75qmHwB2oBZA",
        "colab_type": "code",
        "colab": {
          "base_uri": "https://localhost:8080/",
          "height": 71
        },
        "outputId": "86117893-a610-4f5a-fa0f-507d924243e5"
      },
      "source": [
        "words = 'The quick brown fox jumps over the lazy dog'.split()\n",
        "print(words)\n",
        "\n",
        "stuff = [[w.upper(), w.lower(),len(w)] for w in words]\n",
        "print(stuff)"
      ],
      "execution_count": 9,
      "outputs": [
        {
          "output_type": "stream",
          "text": [
            "['The', 'quick', 'brown', 'fox', 'jumps', 'over', 'the', 'lazy', 'dog']\n",
            "[['THE', 'the', 3], ['QUICK', 'quick', 5], ['BROWN', 'brown', 5], ['FOX', 'fox', 3], ['JUMPS', 'jumps', 5], ['OVER', 'over', 4], ['THE', 'the', 3], ['LAZY', 'lazy', 4], ['DOG', 'dog', 3]]\n"
          ],
          "name": "stdout"
        }
      ]
    },
    {
      "cell_type": "code",
      "metadata": {
        "id": "J0B2XVV7oO-l",
        "colab_type": "code",
        "colab": {
          "base_uri": "https://localhost:8080/",
          "height": 51
        },
        "outputId": "f3fe780b-0dde-479b-d702-9c9af41b1328"
      },
      "source": [
        "case_1 = [\"A\", \"B\", \"C\"]\n",
        "case_2 = [\"D\", \"E\", \"A\"]\n",
        "# 1차원 배열로 결과가 나온다\n",
        "result = [i+j for i in case_1 for j in case_2]\n",
        "print(result)\n",
        "# 2차원 배열로 결과가 나온다. \n",
        "result = [ [i+j for i in case_1] for j in case_2]\n",
        "print(result)"
      ],
      "execution_count": 10,
      "outputs": [
        {
          "output_type": "stream",
          "text": [
            "['AD', 'AE', 'AA', 'BD', 'BE', 'BA', 'CD', 'CE', 'CA']\n",
            "[['AD', 'BD', 'CD'], ['AE', 'BE', 'CE'], ['AA', 'BA', 'CA']]\n"
          ],
          "name": "stdout"
        }
      ]
    },
    {
      "cell_type": "markdown",
      "metadata": {
        "id": "kB7rkhXLo2Ss",
        "colab_type": "text"
      },
      "source": [
        "# Enumerate\n",
        "List의 element를 추출할 때 번호를 붙여서 추출"
      ]
    },
    {
      "cell_type": "code",
      "metadata": {
        "id": "9tTbwp4iocy_",
        "colab_type": "code",
        "colab": {
          "base_uri": "https://localhost:8080/",
          "height": 68
        },
        "outputId": "72fdabe5-4b1f-45d7-eec2-fb0e38d622ea"
      },
      "source": [
        "for i, v in enumerate(['tic', 'tac', 'toe']):\n",
        "  print(i,v)"
      ],
      "execution_count": 11,
      "outputs": [
        {
          "output_type": "stream",
          "text": [
            "0 tic\n",
            "1 tac\n",
            "2 toe\n"
          ],
          "name": "stdout"
        }
      ]
    },
    {
      "cell_type": "code",
      "metadata": {
        "id": "tYeJFFQypC3P",
        "colab_type": "code",
        "colab": {
          "base_uri": "https://localhost:8080/",
          "height": 34
        },
        "outputId": "15694830-26cd-4b43-85d8-545e8ebb339a"
      },
      "source": [
        "mylist = ['a','b','c','d']\n",
        "print(list(enumerate(mylist)))"
      ],
      "execution_count": 12,
      "outputs": [
        {
          "output_type": "stream",
          "text": [
            "[(0, 'a'), (1, 'b'), (2, 'c'), (3, 'd')]\n"
          ],
          "name": "stdout"
        }
      ]
    },
    {
      "cell_type": "code",
      "metadata": {
        "id": "Mf422xKRpJ0l",
        "colab_type": "code",
        "colab": {
          "base_uri": "https://localhost:8080/",
          "height": 187
        },
        "outputId": "ae2f70c0-829c-4ccf-bf28-a985c8604295"
      },
      "source": [
        "# 천천히 따라해보면 이해감\n",
        "{i:j for i,j in enumerate('Chonnam University is an academic institute located in South Korea.'.split())}"
      ],
      "execution_count": 13,
      "outputs": [
        {
          "output_type": "execute_result",
          "data": {
            "text/plain": [
              "{0: 'Chonnam',\n",
              " 1: 'University',\n",
              " 2: 'is',\n",
              " 3: 'an',\n",
              " 4: 'academic',\n",
              " 5: 'institute',\n",
              " 6: 'located',\n",
              " 7: 'in',\n",
              " 8: 'South',\n",
              " 9: 'Korea.'}"
            ]
          },
          "metadata": {
            "tags": []
          },
          "execution_count": 13
        }
      ]
    },
    {
      "cell_type": "markdown",
      "metadata": {
        "id": "Vd5a1Sxope-Y",
        "colab_type": "text"
      },
      "source": [
        "# Zip\n",
        "두개의 list의 값을 병렬적으로 묶어준다"
      ]
    },
    {
      "cell_type": "code",
      "metadata": {
        "id": "u1c39ixCpX0S",
        "colab_type": "code",
        "colab": {
          "base_uri": "https://localhost:8080/",
          "height": 68
        },
        "outputId": "46c140aa-7ab1-4c66-b8e3-e080fff9345b"
      },
      "source": [
        "alist = ['a1','a2','a3']\n",
        "blist = ['b1', 'b2', 'b3']\n",
        "for a, b in zip(alist,blist):\n",
        "  print(a,b)"
      ],
      "execution_count": 14,
      "outputs": [
        {
          "output_type": "stream",
          "text": [
            "a1 b1\n",
            "a2 b2\n",
            "a3 b3\n"
          ],
          "name": "stdout"
        }
      ]
    },
    {
      "cell_type": "code",
      "metadata": {
        "id": "AiAHZ_uCpp3q",
        "colab_type": "code",
        "colab": {
          "base_uri": "https://localhost:8080/",
          "height": 34
        },
        "outputId": "ef165678-e108-4d6b-944d-82067b35fa8d"
      },
      "source": [
        "a,b,c = zip((1,2,3),(10,20,30),(100,200,300))\n",
        "print(a, b, c)"
      ],
      "execution_count": 15,
      "outputs": [
        {
          "output_type": "stream",
          "text": [
            "(1, 10, 100) (2, 20, 200) (3, 30, 300)\n"
          ],
          "name": "stdout"
        }
      ]
    },
    {
      "cell_type": "code",
      "metadata": {
        "id": "hQcWNzUupuwu",
        "colab_type": "code",
        "colab": {
          "base_uri": "https://localhost:8080/",
          "height": 34
        },
        "outputId": "5a0fa5ed-10a1-414d-9b23-b7ef59e4ae2d"
      },
      "source": [
        "[sum(x) for x in zip((1,2,3),(10,20,30),(100,200,300))]"
      ],
      "execution_count": 16,
      "outputs": [
        {
          "output_type": "execute_result",
          "data": {
            "text/plain": [
              "[111, 222, 333]"
            ]
          },
          "metadata": {
            "tags": []
          },
          "execution_count": 16
        }
      ]
    },
    {
      "cell_type": "code",
      "metadata": {
        "id": "ndtmhLoQp2sP",
        "colab_type": "code",
        "colab": {
          "base_uri": "https://localhost:8080/",
          "height": 68
        },
        "outputId": "e22705f5-5363-4100-ad93-23df4998beda"
      },
      "source": [
        "# Enumerate & Zip 혼종\n",
        "alist = ['a1','a2','a3']\n",
        "blist = ['b1', 'b2', 'b3']\n",
        "for i, (a, b) in enumerate(zip(alist,blist)):\n",
        "  print(i, a, b)"
      ],
      "execution_count": 17,
      "outputs": [
        {
          "output_type": "stream",
          "text": [
            "0 a1 b1\n",
            "1 a2 b2\n",
            "2 a3 b3\n"
          ],
          "name": "stdout"
        }
      ]
    },
    {
      "cell_type": "markdown",
      "metadata": {
        "id": "epZmZ2tKqcjF",
        "colab_type": "text"
      },
      "source": [
        "# Lambda\n",
        "함수 이름 없이 함수 처럼 쓰는 거지같은 익명 함수"
      ]
    },
    {
      "cell_type": "code",
      "metadata": {
        "id": "2FI9X23PqHTc",
        "colab_type": "code",
        "colab": {
          "base_uri": "https://localhost:8080/",
          "height": 34
        },
        "outputId": "6baf77be-7dc0-481e-e0f1-86da588c2ac8"
      },
      "source": [
        "# 근본함수\n",
        "def f(x,y):\n",
        "  return x+y\n",
        "print(f(1,4))"
      ],
      "execution_count": 18,
      "outputs": [
        {
          "output_type": "stream",
          "text": [
            "5\n"
          ],
          "name": "stdout"
        }
      ]
    },
    {
      "cell_type": "code",
      "metadata": {
        "id": "sNlde7iaqlgh",
        "colab_type": "code",
        "colab": {
          "base_uri": "https://localhost:8080/",
          "height": 34
        },
        "outputId": "a9a62785-e4a0-474c-b55a-0193e0867559"
      },
      "source": [
        "# 무근본 함수\n",
        "f = lambda x,y : x + y\n",
        "print(f(1,4)) "
      ],
      "execution_count": 19,
      "outputs": [
        {
          "output_type": "stream",
          "text": [
            "5\n"
          ],
          "name": "stdout"
        }
      ]
    },
    {
      "cell_type": "code",
      "metadata": {
        "id": "9ZXGJDSwqq2g",
        "colab_type": "code",
        "colab": {
          "base_uri": "https://localhost:8080/",
          "height": 68
        },
        "outputId": "53d6ff89-ef81-4e3d-fb0d-521f4d75d23e"
      },
      "source": [
        "# 나누기 함수\n",
        "f = lambda x: x/2\n",
        "print(f(3))\n",
        "# 제곱 함수\n",
        "f = lambda x: x ** 2\n",
        "print(f(3))\n",
        "# 1 더하는 함수\n",
        "print((lambda x: x+1)(5))"
      ],
      "execution_count": 20,
      "outputs": [
        {
          "output_type": "stream",
          "text": [
            "1.5\n",
            "9\n",
            "6\n"
          ],
          "name": "stdout"
        }
      ]
    },
    {
      "cell_type": "markdown",
      "metadata": {
        "id": "pejOqVzJrHFw",
        "colab_type": "text"
      },
      "source": [
        "# Map\n",
        "Sequence 자료형 각 element에 동일한 function을 적용함\n",
        "\n",
        "람다와 함께 쓰면 리얼 무근본 절정"
      ]
    },
    {
      "cell_type": "code",
      "metadata": {
        "id": "mnDjWoawrC9B",
        "colab_type": "code",
        "colab": {
          "base_uri": "https://localhost:8080/",
          "height": 51
        },
        "outputId": "522cb511-13c9-4f14-a2e0-c7fcf139400a"
      },
      "source": [
        "ex = [1,2,3,4,5]\n",
        "f = lambda x: x ** 2\n",
        "print(list(map(f,ex)))\n",
        "\n",
        "f = lambda x,y : x+y \n",
        "print(list(map(f,ex,ex)))"
      ],
      "execution_count": 21,
      "outputs": [
        {
          "output_type": "stream",
          "text": [
            "[1, 4, 9, 16, 25]\n",
            "[2, 4, 6, 8, 10]\n"
          ],
          "name": "stdout"
        }
      ]
    },
    {
      "cell_type": "code",
      "metadata": {
        "id": "q-MQ8zEnrPpv",
        "colab_type": "code",
        "colab": {
          "base_uri": "https://localhost:8080/",
          "height": 34
        },
        "outputId": "bea8614a-a366-407d-fdbc-306bc7254db9"
      },
      "source": [
        "ex = [1,2,3,4,5]\n",
        "# 짝수는 제곱 나머지는 그대로\n",
        "list( map(lambda x: x ** 2 if x % 2 == 0 else x, ex))"
      ],
      "execution_count": 22,
      "outputs": [
        {
          "output_type": "execute_result",
          "data": {
            "text/plain": [
              "[1, 4, 3, 16, 5]"
            ]
          },
          "metadata": {
            "tags": []
          },
          "execution_count": 22
        }
      ]
    },
    {
      "cell_type": "markdown",
      "metadata": {
        "id": "deySvAkJsPZU",
        "colab_type": "text"
      },
      "source": [
        "# Reduce function\n",
        "map function과 달리 list에 똑같은 함수를 적용해서 통합"
      ]
    },
    {
      "cell_type": "code",
      "metadata": {
        "id": "8pf9se9Frva2",
        "colab_type": "code",
        "colab": {
          "base_uri": "https://localhost:8080/",
          "height": 34
        },
        "outputId": "431b163a-567e-4fef-87a7-3a833b28d16e"
      },
      "source": [
        "from functools import reduce\n",
        "'''\n",
        "1 + 2 = 3\n",
        "3 + 3 = 6\n",
        "6 + 4 = 10\n",
        "10 + 5 = 15\n",
        "map과 비슷하지만 결과값이 다시 입력으로 들어간다.\n",
        "'''\n",
        "print(reduce(lambda x,y : x+y, [1,2,3,4,5]))"
      ],
      "execution_count": 23,
      "outputs": [
        {
          "output_type": "stream",
          "text": [
            "15\n"
          ],
          "name": "stdout"
        }
      ]
    },
    {
      "cell_type": "markdown",
      "metadata": {
        "id": "9eaaXBZUsygc",
        "colab_type": "text"
      },
      "source": [
        "# Asterisk\n",
        "곱셈, 제곱연산, 가변인자 활용"
      ]
    },
    {
      "cell_type": "code",
      "metadata": {
        "id": "OzRDMU_QsX47",
        "colab_type": "code",
        "colab": {
          "base_uri": "https://localhost:8080/",
          "height": 187
        },
        "outputId": "dc851622-92ad-4fef-e57b-ef8bc5c2bc2f"
      },
      "source": [
        "# 인자를 1개 받고 뒤에는 tuple을 받는다\n",
        "def asterisk_test(a, *args):\n",
        "  print(a, args)\n",
        "  print(type(args))\n",
        "\n",
        "asterisk_test(1)\n",
        "asterisk_test(1,2)\n",
        "asterisk_test(1,2,3,4,5,6)\n",
        "# 여기서 *은 unpacking 즉 튜플을 없애고 일반 list로 변환시킨다.\n",
        "asterisk_test(1,*(2,3,4,5,6))\n",
        "# 튜플을 unpacking 하지않으면 튜플에 튜플이 들어간다.\n",
        "asterisk_test(1,(2,3,4,5,6))"
      ],
      "execution_count": 24,
      "outputs": [
        {
          "output_type": "stream",
          "text": [
            "1 ()\n",
            "<class 'tuple'>\n",
            "1 (2,)\n",
            "<class 'tuple'>\n",
            "1 (2, 3, 4, 5, 6)\n",
            "<class 'tuple'>\n",
            "1 (2, 3, 4, 5, 6)\n",
            "<class 'tuple'>\n",
            "1 ((2, 3, 4, 5, 6),)\n",
            "<class 'tuple'>\n"
          ],
          "name": "stdout"
        }
      ]
    },
    {
      "cell_type": "code",
      "metadata": {
        "id": "7rayxPdqt61e",
        "colab_type": "code",
        "colab": {
          "base_uri": "https://localhost:8080/",
          "height": 51
        },
        "outputId": "a4930673-58cc-4366-9899-087e3a3981a3"
      },
      "source": [
        "# 인자를 1개 받고 뒤에는 dict를 받는다.\n",
        "def asterisk_test(a, **args):\n",
        "  print(a, args)\n",
        "  print(type(args))\n",
        "\n",
        "asterisk_test(1, b=2, c=3, d=4, e=5, f=6)"
      ],
      "execution_count": 25,
      "outputs": [
        {
          "output_type": "stream",
          "text": [
            "1 {'b': 2, 'c': 3, 'd': 4, 'e': 5, 'f': 6}\n",
            "<class 'dict'>\n"
          ],
          "name": "stdout"
        }
      ]
    },
    {
      "cell_type": "code",
      "metadata": {
        "id": "DpBjC7TfuP4E",
        "colab_type": "code",
        "colab": {
          "base_uri": "https://localhost:8080/",
          "height": 68
        },
        "outputId": "5edab1a3-482c-470d-cb0e-874bbd577461"
      },
      "source": [
        "a, b, c = ([1,2], [3,4], [5,6])\n",
        "print(a,b,c)\n",
        "\n",
        "data = ([1,2],[3,4],[5,6])\n",
        "print(data)\n",
        "print(*data)"
      ],
      "execution_count": 26,
      "outputs": [
        {
          "output_type": "stream",
          "text": [
            "[1, 2] [3, 4] [5, 6]\n",
            "([1, 2], [3, 4], [5, 6])\n",
            "[1, 2] [3, 4] [5, 6]\n"
          ],
          "name": "stdout"
        }
      ]
    },
    {
      "cell_type": "code",
      "metadata": {
        "id": "YW-9hohHvdtS",
        "colab_type": "code",
        "colab": {
          "base_uri": "https://localhost:8080/",
          "height": 85
        },
        "outputId": "e7652531-3e05-4f8a-aacd-69fbca1954aa"
      },
      "source": [
        "def asterisk_test(a, b, c, d,): \n",
        "  print(a, b, c, d)\n",
        "\n",
        "data = {\"b\" : 1, \"c\" : 2, \"d\" : 3}\n",
        "print(data)\n",
        "print(*data)\n",
        "\n",
        "asterisk_test(10, *data)\n",
        "asterisk_test(10, **data)"
      ],
      "execution_count": 27,
      "outputs": [
        {
          "output_type": "stream",
          "text": [
            "{'b': 1, 'c': 2, 'd': 3}\n",
            "b c d\n",
            "10 b c d\n",
            "10 1 2 3\n"
          ],
          "name": "stdout"
        }
      ]
    },
    {
      "cell_type": "markdown",
      "metadata": {
        "id": "AVpjNNBt0zsf",
        "colab_type": "text"
      },
      "source": [
        "# 벡터 (Vector)"
      ]
    },
    {
      "cell_type": "code",
      "metadata": {
        "id": "Vzt7mMIXvp9x",
        "colab_type": "code",
        "colab": {
          "base_uri": "https://localhost:8080/",
          "height": 34
        },
        "outputId": "d6cd8f83-3292-4b65-b4fe-6c6f7318d780"
      },
      "source": [
        "# 이런 코드는 파이썬 답지 못하다고 함\n",
        "u = [2,2]\n",
        "v = [2,3]\n",
        "z = [3,5]\n",
        "result = []\n",
        "for i in range(len(u)):\n",
        "  result.append(u[i] + v[i] + z[i])\n",
        "\n",
        "print(result)"
      ],
      "execution_count": 28,
      "outputs": [
        {
          "output_type": "stream",
          "text": [
            "[7, 10]\n"
          ],
          "name": "stdout"
        }
      ]
    },
    {
      "cell_type": "code",
      "metadata": {
        "id": "BZyK4akY1M9R",
        "colab_type": "code",
        "colab": {
          "base_uri": "https://localhost:8080/",
          "height": 34
        },
        "outputId": "6e378887-c640-4e8c-c099-822ef5db3956"
      },
      "source": [
        "u = [2,2]\n",
        "v = [2,3]\n",
        "z = [3,5]\n",
        "result = [sum(t) for t in zip(u,v,z)]\n",
        "print(result)"
      ],
      "execution_count": 29,
      "outputs": [
        {
          "output_type": "stream",
          "text": [
            "[7, 10]\n"
          ],
          "name": "stdout"
        }
      ]
    },
    {
      "cell_type": "code",
      "metadata": {
        "id": "74GdulbL1T3b",
        "colab_type": "code",
        "colab": {
          "base_uri": "https://localhost:8080/",
          "height": 34
        },
        "outputId": "78ac8571-143d-4716-f737-0199fd15f1d1"
      },
      "source": [
        "# Scalar-Vector product\n",
        "u = [1,2,3]\n",
        "v = [4,4,4]\n",
        "alpha = 2\n",
        "\n",
        "result = [alpha * sum(t) for t in zip(u,v,z)]\n",
        "print(result)"
      ],
      "execution_count": 30,
      "outputs": [
        {
          "output_type": "stream",
          "text": [
            "[16, 22]\n"
          ],
          "name": "stdout"
        }
      ]
    },
    {
      "cell_type": "markdown",
      "metadata": {
        "id": "z5DCsmM91jsi",
        "colab_type": "text"
      },
      "source": [
        "# 행렬 (Matrix)"
      ]
    },
    {
      "cell_type": "code",
      "metadata": {
        "id": "eyv0BJAQ1nVk",
        "colab_type": "code",
        "colab": {
          "base_uri": "https://localhost:8080/",
          "height": 255
        },
        "outputId": "2c66c6c7-680a-4cc0-94c0-3a5f8638310f"
      },
      "source": [
        "matrix_a = [[3,6],[4,5]]\n",
        "matrix_b = [[5,8],[6,7]]\n",
        "\n",
        "for t in zip(matrix_a, matrix_b):\n",
        "  print('t : ', t)\n",
        "  print('*t : ', *t)\n",
        "  for row in zip(*t):\n",
        "    print('row : ', row)\n",
        "    print('sum(row) : ', sum(row))\n",
        "\n",
        "print()\n",
        "result = [[sum(row) for row in zip(*t)] for t in zip(matrix_a, matrix_b)]\n",
        "\n",
        "print(result)"
      ],
      "execution_count": 31,
      "outputs": [
        {
          "output_type": "stream",
          "text": [
            "t :  ([3, 6], [5, 8])\n",
            "*t :  [3, 6] [5, 8]\n",
            "row :  (3, 5)\n",
            "sum(row) :  8\n",
            "row :  (6, 8)\n",
            "sum(row) :  14\n",
            "t :  ([4, 5], [6, 7])\n",
            "*t :  [4, 5] [6, 7]\n",
            "row :  (4, 6)\n",
            "sum(row) :  10\n",
            "row :  (5, 7)\n",
            "sum(row) :  12\n",
            "\n",
            "[[8, 14], [10, 12]]\n"
          ],
          "name": "stdout"
        }
      ]
    },
    {
      "cell_type": "code",
      "metadata": {
        "id": "7xg_i4Y92qZc",
        "colab_type": "code",
        "colab": {
          "base_uri": "https://localhost:8080/",
          "height": 85
        },
        "outputId": "39831787-a2b0-42ed-d2c2-904c4a0e34ce"
      },
      "source": [
        "# Scalar-Matrix Product\n",
        "matrix_a = [[3,6],[4,5]]\n",
        "alpha = 4\n",
        "\n",
        "for t in matrix_a:\n",
        "  print(t)\n",
        "\n",
        "print()\n",
        "result = [[alpha * element for element in t] for t in matrix_a]\n",
        "print(result)"
      ],
      "execution_count": 32,
      "outputs": [
        {
          "output_type": "stream",
          "text": [
            "[3, 6]\n",
            "[4, 5]\n",
            "\n",
            "[[12, 24], [16, 20]]\n"
          ],
          "name": "stdout"
        }
      ]
    },
    {
      "cell_type": "code",
      "metadata": {
        "id": "w3t6TWNe26Fz",
        "colab_type": "code",
        "colab": {
          "base_uri": "https://localhost:8080/",
          "height": 102
        },
        "outputId": "c824468c-94f7-4b99-fa28-9d517ca94b05"
      },
      "source": [
        "# Matrix Transpose\n",
        "matrix_a = [[1, 2, 3], [4, 5, 6]]\n",
        "print('*matrix_a : ', *matrix_a)\n",
        "\n",
        "for t in zip(*matrix_a):\n",
        "  print(t)\n",
        "\n",
        "result = [[element for element in t] for t in zip(*matrix_a)] \n",
        "print (result)"
      ],
      "execution_count": 33,
      "outputs": [
        {
          "output_type": "stream",
          "text": [
            "*matrix_a :  [1, 2, 3] [4, 5, 6]\n",
            "(1, 4)\n",
            "(2, 5)\n",
            "(3, 6)\n",
            "[[1, 4], [2, 5], [3, 6]]\n"
          ],
          "name": "stdout"
        }
      ]
    },
    {
      "cell_type": "code",
      "metadata": {
        "id": "hm4zWmOs7BGT",
        "colab_type": "code",
        "colab": {
          "base_uri": "https://localhost:8080/",
          "height": 510
        },
        "outputId": "cea64d53-a2b7-49f2-ca36-0d51f70d7588"
      },
      "source": [
        "# Matrix Product\n",
        "# 무조건 나올듯 느낌이\n",
        "matrix_a = [[1,1,2],[2,1,1]]\n",
        "matrix_b = [[1,1],[2,1],[1,3]]\n",
        "\n",
        "\n",
        "print('*matrix_b : ', *matrix_b)\n",
        "print('zip(*matrix_b) : ', list(zip(*matrix_b)))\n",
        "\n",
        "for row_a in matrix_a:\n",
        "  print('row_a : ', row_a)\n",
        "  for column_b in zip(*matrix_b):\n",
        "    print('column_b : ', column_b)\n",
        "    print('zip(row_a, column_b) : ', list(zip(row_a, column_b)))\n",
        "    for a,b in zip(row_a, column_b):\n",
        "      print(a * b)\n",
        "\n",
        "# [(1, 2, 1), (1, 1, 3)]\n",
        "part_a = [column_b for column_b in zip(*matrix_b)]\n",
        "print('part_a : ', part_a)\n",
        "\n",
        "row_a = [1,1,2]\n",
        "column_b = [1,2,1]\n",
        "\n",
        "# [(1, 1), (1, 2), (2, 1)]\n",
        "print('zip(row_a, column_b)', list(zip(row_a,column_b)))\n",
        "\n",
        "# [1,2,2]\n",
        "part_b = [ a*b for a,b in zip(row_a,column_b)]\n",
        "print('part_b : ' ,part_b)\n",
        "\n",
        "# [5]\n",
        "part_c = [[sum(a*b for a,b in zip(row_a,column_b))]]\n",
        "print('part_c : ', part_c)\n",
        "\n",
        "# [[5,8], [5,6]]\n",
        "result = [[sum( a*b for a,b in zip(row_a,column_b) )  for column_b in zip(*matrix_b)] for row_a in matrix_a]\n",
        "\n",
        "print(result)\n",
        "\n"
      ],
      "execution_count": 35,
      "outputs": [
        {
          "output_type": "stream",
          "text": [
            "*matrix_b :  [1, 1] [2, 1] [1, 3]\n",
            "zip(*matrix_b) :  [(1, 2, 1), (1, 1, 3)]\n",
            "row_a :  [1, 1, 2]\n",
            "column_b :  (1, 2, 1)\n",
            "zip(row_a, column_b) :  [(1, 1), (1, 2), (2, 1)]\n",
            "1\n",
            "2\n",
            "2\n",
            "column_b :  (1, 1, 3)\n",
            "zip(row_a, column_b) :  [(1, 1), (1, 1), (2, 3)]\n",
            "1\n",
            "1\n",
            "6\n",
            "row_a :  [2, 1, 1]\n",
            "column_b :  (1, 2, 1)\n",
            "zip(row_a, column_b) :  [(2, 1), (1, 2), (1, 1)]\n",
            "2\n",
            "2\n",
            "1\n",
            "column_b :  (1, 1, 3)\n",
            "zip(row_a, column_b) :  [(2, 1), (1, 1), (1, 3)]\n",
            "2\n",
            "1\n",
            "3\n",
            "part_a :  [(1, 2, 1), (1, 1, 3)]\n",
            "zip(row_a, column_b) [(1, 1), (1, 2), (2, 1)]\n",
            "part_b :  [1, 2, 2]\n",
            "part_c :  [[5]]\n",
            "[[5, 8], [5, 6]]\n"
          ],
          "name": "stdout"
        }
      ]
    },
    {
      "cell_type": "code",
      "metadata": {
        "id": "6VKnS_D-75uW",
        "colab_type": "code",
        "colab": {}
      },
      "source": [
        ""
      ],
      "execution_count": 34,
      "outputs": []
    }
  ]
}